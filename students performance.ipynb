{
  "cells": [
    {
      "metadata": {
        "_uuid": "8f2839f25d086af736a60e9eeb907d3b93b6e0e5",
        "_cell_guid": "b1076dfc-b9ad-4769-8c92-a6c4dae69d19",
        "trusted": true
      },
      "cell_type": "code",
      "source": "# This Python 3 environment comes with many helpful analytics libraries installed\n# It is defined by the kaggle/python docker image: https://github.com/kaggle/docker-python\n# For example, here's several helpful packages to load in \n\nimport numpy as np # linear algebra\nimport pandas as pd # data processing, CSV file I/O (e.g. pd.read_csv)\nfrom scipy import stats\nimport matplotlib.pyplot as plt\nimport seaborn as sns\n\n# Input data files are available in the \"../input/\" directory.\n# For example, running this (by clicking run or pressing Shift+Enter) will list the files in the input directory\n\nimport os\nprint(os.listdir(\"../input\"))\n\n# Any results you write to the current directory are saved as output.",
      "execution_count": 24,
      "outputs": [
        {
          "output_type": "stream",
          "text": "['StudentsPerformance.csv']\n",
          "name": "stdout"
        }
      ]
    },
    {
      "metadata": {
        "_cell_guid": "79c7e3d0-c299-4dcb-8224-4455121ee9b0",
        "_uuid": "d629ff2d2480ee46fbb7e2d37f6b5fab8052498a",
        "trusted": true
      },
      "cell_type": "code",
      "source": "df=pd.read_csv('../input/StudentsPerformance.csv')",
      "execution_count": 3,
      "outputs": []
    },
    {
      "metadata": {
        "trusted": true,
        "_uuid": "e38f61571b8f1cf9b7266793664c85e9d3384fa7"
      },
      "cell_type": "code",
      "source": "df.head()",
      "execution_count": 4,
      "outputs": [
        {
          "output_type": "execute_result",
          "execution_count": 4,
          "data": {
            "text/plain": "   gender race/ethnicity      ...      reading score writing score\n0  female        group B      ...                 72            74\n1  female        group C      ...                 90            88\n2  female        group B      ...                 95            93\n3    male        group A      ...                 57            44\n4    male        group C      ...                 78            75\n\n[5 rows x 8 columns]",
            "text/html": "<div>\n<style scoped>\n    .dataframe tbody tr th:only-of-type {\n        vertical-align: middle;\n    }\n\n    .dataframe tbody tr th {\n        vertical-align: top;\n    }\n\n    .dataframe thead th {\n        text-align: right;\n    }\n</style>\n<table border=\"1\" class=\"dataframe\">\n  <thead>\n    <tr style=\"text-align: right;\">\n      <th></th>\n      <th>gender</th>\n      <th>race/ethnicity</th>\n      <th>parental level of education</th>\n      <th>lunch</th>\n      <th>test preparation course</th>\n      <th>math score</th>\n      <th>reading score</th>\n      <th>writing score</th>\n    </tr>\n  </thead>\n  <tbody>\n    <tr>\n      <th>0</th>\n      <td>female</td>\n      <td>group B</td>\n      <td>bachelor's degree</td>\n      <td>standard</td>\n      <td>none</td>\n      <td>72</td>\n      <td>72</td>\n      <td>74</td>\n    </tr>\n    <tr>\n      <th>1</th>\n      <td>female</td>\n      <td>group C</td>\n      <td>some college</td>\n      <td>standard</td>\n      <td>completed</td>\n      <td>69</td>\n      <td>90</td>\n      <td>88</td>\n    </tr>\n    <tr>\n      <th>2</th>\n      <td>female</td>\n      <td>group B</td>\n      <td>master's degree</td>\n      <td>standard</td>\n      <td>none</td>\n      <td>90</td>\n      <td>95</td>\n      <td>93</td>\n    </tr>\n    <tr>\n      <th>3</th>\n      <td>male</td>\n      <td>group A</td>\n      <td>associate's degree</td>\n      <td>free/reduced</td>\n      <td>none</td>\n      <td>47</td>\n      <td>57</td>\n      <td>44</td>\n    </tr>\n    <tr>\n      <th>4</th>\n      <td>male</td>\n      <td>group C</td>\n      <td>some college</td>\n      <td>standard</td>\n      <td>none</td>\n      <td>76</td>\n      <td>78</td>\n      <td>75</td>\n    </tr>\n  </tbody>\n</table>\n</div>"
          },
          "metadata": {}
        }
      ]
    },
    {
      "metadata": {
        "trusted": true,
        "scrolled": true,
        "_uuid": "caea7cac6331026c0e8ea1c1d2d79ba9f317856d"
      },
      "cell_type": "code",
      "source": "df.describe()",
      "execution_count": 5,
      "outputs": [
        {
          "output_type": "execute_result",
          "execution_count": 5,
          "data": {
            "text/plain": "       math score  reading score  writing score\ncount  1000.00000    1000.000000    1000.000000\nmean     66.08900      69.169000      68.054000\nstd      15.16308      14.600192      15.195657\nmin       0.00000      17.000000      10.000000\n25%      57.00000      59.000000      57.750000\n50%      66.00000      70.000000      69.000000\n75%      77.00000      79.000000      79.000000\nmax     100.00000     100.000000     100.000000",
            "text/html": "<div>\n<style scoped>\n    .dataframe tbody tr th:only-of-type {\n        vertical-align: middle;\n    }\n\n    .dataframe tbody tr th {\n        vertical-align: top;\n    }\n\n    .dataframe thead th {\n        text-align: right;\n    }\n</style>\n<table border=\"1\" class=\"dataframe\">\n  <thead>\n    <tr style=\"text-align: right;\">\n      <th></th>\n      <th>math score</th>\n      <th>reading score</th>\n      <th>writing score</th>\n    </tr>\n  </thead>\n  <tbody>\n    <tr>\n      <th>count</th>\n      <td>1000.00000</td>\n      <td>1000.000000</td>\n      <td>1000.000000</td>\n    </tr>\n    <tr>\n      <th>mean</th>\n      <td>66.08900</td>\n      <td>69.169000</td>\n      <td>68.054000</td>\n    </tr>\n    <tr>\n      <th>std</th>\n      <td>15.16308</td>\n      <td>14.600192</td>\n      <td>15.195657</td>\n    </tr>\n    <tr>\n      <th>min</th>\n      <td>0.00000</td>\n      <td>17.000000</td>\n      <td>10.000000</td>\n    </tr>\n    <tr>\n      <th>25%</th>\n      <td>57.00000</td>\n      <td>59.000000</td>\n      <td>57.750000</td>\n    </tr>\n    <tr>\n      <th>50%</th>\n      <td>66.00000</td>\n      <td>70.000000</td>\n      <td>69.000000</td>\n    </tr>\n    <tr>\n      <th>75%</th>\n      <td>77.00000</td>\n      <td>79.000000</td>\n      <td>79.000000</td>\n    </tr>\n    <tr>\n      <th>max</th>\n      <td>100.00000</td>\n      <td>100.000000</td>\n      <td>100.000000</td>\n    </tr>\n  </tbody>\n</table>\n</div>"
          },
          "metadata": {}
        }
      ]
    },
    {
      "metadata": {
        "trusted": true,
        "_uuid": "554f23a09c4674207e64b91c19b35edb502e0dc6"
      },
      "cell_type": "code",
      "source": "df.rename(columns={'race/ethnicity':'ethnicity','parental level of education':'parents','test preparation course':'prep','math score':'math','reading score':'reading','writing score':'writing'},inplace=True)\ndf.head()",
      "execution_count": 10,
      "outputs": [
        {
          "output_type": "execute_result",
          "execution_count": 10,
          "data": {
            "text/plain": "   gender ethnicity             parents   ...    math reading  writing\n0  female   group B   bachelor's degree   ...      72      72       74\n1  female   group C        some college   ...      69      90       88\n2  female   group B     master's degree   ...      90      95       93\n3    male   group A  associate's degree   ...      47      57       44\n4    male   group C        some college   ...      76      78       75\n\n[5 rows x 8 columns]",
            "text/html": "<div>\n<style scoped>\n    .dataframe tbody tr th:only-of-type {\n        vertical-align: middle;\n    }\n\n    .dataframe tbody tr th {\n        vertical-align: top;\n    }\n\n    .dataframe thead th {\n        text-align: right;\n    }\n</style>\n<table border=\"1\" class=\"dataframe\">\n  <thead>\n    <tr style=\"text-align: right;\">\n      <th></th>\n      <th>gender</th>\n      <th>ethnicity</th>\n      <th>parents</th>\n      <th>lunch</th>\n      <th>prep</th>\n      <th>math</th>\n      <th>reading</th>\n      <th>writing</th>\n    </tr>\n  </thead>\n  <tbody>\n    <tr>\n      <th>0</th>\n      <td>female</td>\n      <td>group B</td>\n      <td>bachelor's degree</td>\n      <td>standard</td>\n      <td>none</td>\n      <td>72</td>\n      <td>72</td>\n      <td>74</td>\n    </tr>\n    <tr>\n      <th>1</th>\n      <td>female</td>\n      <td>group C</td>\n      <td>some college</td>\n      <td>standard</td>\n      <td>completed</td>\n      <td>69</td>\n      <td>90</td>\n      <td>88</td>\n    </tr>\n    <tr>\n      <th>2</th>\n      <td>female</td>\n      <td>group B</td>\n      <td>master's degree</td>\n      <td>standard</td>\n      <td>none</td>\n      <td>90</td>\n      <td>95</td>\n      <td>93</td>\n    </tr>\n    <tr>\n      <th>3</th>\n      <td>male</td>\n      <td>group A</td>\n      <td>associate's degree</td>\n      <td>free/reduced</td>\n      <td>none</td>\n      <td>47</td>\n      <td>57</td>\n      <td>44</td>\n    </tr>\n    <tr>\n      <th>4</th>\n      <td>male</td>\n      <td>group C</td>\n      <td>some college</td>\n      <td>standard</td>\n      <td>none</td>\n      <td>76</td>\n      <td>78</td>\n      <td>75</td>\n    </tr>\n  </tbody>\n</table>\n</div>"
          },
          "metadata": {}
        }
      ]
    },
    {
      "metadata": {
        "trusted": true,
        "_uuid": "f3ca119337d8224fc0e493b1b975d5a1921a751a"
      },
      "cell_type": "code",
      "source": "df['total']=round((df.math+df.reading+df.writing)/3,2)\ndf.head()",
      "execution_count": 11,
      "outputs": [
        {
          "output_type": "execute_result",
          "execution_count": 11,
          "data": {
            "text/plain": "   gender ethnicity             parents  ...   reading writing  total\n0  female   group B   bachelor's degree  ...        72      74  72.67\n1  female   group C        some college  ...        90      88  82.33\n2  female   group B     master's degree  ...        95      93  92.67\n3    male   group A  associate's degree  ...        57      44  49.33\n4    male   group C        some college  ...        78      75  76.33\n\n[5 rows x 9 columns]",
            "text/html": "<div>\n<style scoped>\n    .dataframe tbody tr th:only-of-type {\n        vertical-align: middle;\n    }\n\n    .dataframe tbody tr th {\n        vertical-align: top;\n    }\n\n    .dataframe thead th {\n        text-align: right;\n    }\n</style>\n<table border=\"1\" class=\"dataframe\">\n  <thead>\n    <tr style=\"text-align: right;\">\n      <th></th>\n      <th>gender</th>\n      <th>ethnicity</th>\n      <th>parents</th>\n      <th>lunch</th>\n      <th>prep</th>\n      <th>math</th>\n      <th>reading</th>\n      <th>writing</th>\n      <th>total</th>\n    </tr>\n  </thead>\n  <tbody>\n    <tr>\n      <th>0</th>\n      <td>female</td>\n      <td>group B</td>\n      <td>bachelor's degree</td>\n      <td>standard</td>\n      <td>none</td>\n      <td>72</td>\n      <td>72</td>\n      <td>74</td>\n      <td>72.67</td>\n    </tr>\n    <tr>\n      <th>1</th>\n      <td>female</td>\n      <td>group C</td>\n      <td>some college</td>\n      <td>standard</td>\n      <td>completed</td>\n      <td>69</td>\n      <td>90</td>\n      <td>88</td>\n      <td>82.33</td>\n    </tr>\n    <tr>\n      <th>2</th>\n      <td>female</td>\n      <td>group B</td>\n      <td>master's degree</td>\n      <td>standard</td>\n      <td>none</td>\n      <td>90</td>\n      <td>95</td>\n      <td>93</td>\n      <td>92.67</td>\n    </tr>\n    <tr>\n      <th>3</th>\n      <td>male</td>\n      <td>group A</td>\n      <td>associate's degree</td>\n      <td>free/reduced</td>\n      <td>none</td>\n      <td>47</td>\n      <td>57</td>\n      <td>44</td>\n      <td>49.33</td>\n    </tr>\n    <tr>\n      <th>4</th>\n      <td>male</td>\n      <td>group C</td>\n      <td>some college</td>\n      <td>standard</td>\n      <td>none</td>\n      <td>76</td>\n      <td>78</td>\n      <td>75</td>\n      <td>76.33</td>\n    </tr>\n  </tbody>\n</table>\n</div>"
          },
          "metadata": {}
        }
      ]
    },
    {
      "metadata": {
        "trusted": true,
        "_uuid": "85855555c1e7da70149e4a6455195af68d8c1e9c"
      },
      "cell_type": "code",
      "source": "df.isnull().sum()",
      "execution_count": 12,
      "outputs": [
        {
          "output_type": "execute_result",
          "execution_count": 12,
          "data": {
            "text/plain": "gender       0\nethnicity    0\nparents      0\nlunch        0\nprep         0\nmath         0\nreading      0\nwriting      0\ntotal        0\ndtype: int64"
          },
          "metadata": {}
        }
      ]
    },
    {
      "metadata": {
        "trusted": true,
        "_uuid": "2b28b0d86df35d7cd545144de85ca63a484f1f49"
      },
      "cell_type": "code",
      "source": "sns.boxplot(data=df,x='parents',y='total')\n\nplt.show()",
      "execution_count": 17,
      "outputs": [
        {
          "output_type": "display_data",
          "data": {
            "text/plain": "<Figure size 432x288 with 1 Axes>",
            "image/png": "[encoded data removed]"
          },
          "metadata": {}
        }
      ]
    },
    {
      "metadata": {
        "trusted": true,
        "_uuid": "c2f2f55fa297378f6fac6a448c060cf356866ebf"
      },
      "cell_type": "code",
      "source": "df['parents'].value_counts()",
      "execution_count": 27,
      "outputs": [
        {
          "output_type": "execute_result",
          "execution_count": 27,
          "data": {
            "text/plain": "some college          226\nassociate's degree    222\nhigh school           196\nsome high school      179\nbachelor's degree     118\nmaster's degree        59\nName: parents, dtype: int64"
          },
          "metadata": {}
        }
      ]
    },
    {
      "metadata": {
        "trusted": true,
        "scrolled": true,
        "_uuid": "a25891712825ca1aa33f23f2df2049c25dcc3638"
      },
      "cell_type": "code",
      "source": "grouped_parents=df[['parents','total']].groupby(['parents'])\ngrouped_parents.head()",
      "execution_count": 34,
      "outputs": [
        {
          "output_type": "execute_result",
          "execution_count": 34,
          "data": {
            "text/plain": "               parents  total\n0    bachelor's degree  72.67\n1         some college  82.33\n2      master's degree  92.67\n3   associate's degree  49.33\n4         some college  76.33\n5   associate's degree  77.33\n6         some college  91.67\n7         some college  40.67\n8          high school  65.00\n9          high school  49.33\n10  associate's degree  54.67\n11  associate's degree  45.00\n12         high school  73.00\n13        some college  73.33\n14     master's degree  53.67\n15    some high school  74.00\n16         high school  87.67\n17    some high school  26.00\n18     master's degree  44.67\n19  associate's degree  57.67\n20         high school  66.00\n23    some high school  71.67\n24   bachelor's degree  75.00\n25     master's degree  73.00\n27   bachelor's degree  70.33\n29     master's degree  69.00\n37    some high school  57.67\n54    some high school  80.67\n60   bachelor's degree  75.00\n77   bachelor's degree  79.67",
            "text/html": "<div>\n<style scoped>\n    .dataframe tbody tr th:only-of-type {\n        vertical-align: middle;\n    }\n\n    .dataframe tbody tr th {\n        vertical-align: top;\n    }\n\n    .dataframe thead th {\n        text-align: right;\n    }\n</style>\n<table border=\"1\" class=\"dataframe\">\n  <thead>\n    <tr style=\"text-align: right;\">\n      <th></th>\n      <th>parents</th>\n      <th>total</th>\n    </tr>\n  </thead>\n  <tbody>\n    <tr>\n      <th>0</th>\n      <td>bachelor's degree</td>\n      <td>72.67</td>\n    </tr>\n    <tr>\n      <th>1</th>\n      <td>some college</td>\n      <td>82.33</td>\n    </tr>\n    <tr>\n      <th>2</th>\n      <td>master's degree</td>\n      <td>92.67</td>\n    </tr>\n    <tr>\n      <th>3</th>\n      <td>associate's degree</td>\n      <td>49.33</td>\n    </tr>\n    <tr>\n      <th>4</th>\n      <td>some college</td>\n      <td>76.33</td>\n    </tr>\n    <tr>\n      <th>5</th>\n      <td>associate's degree</td>\n      <td>77.33</td>\n    </tr>\n    <tr>\n      <th>6</th>\n      <td>some college</td>\n      <td>91.67</td>\n    </tr>\n    <tr>\n      <th>7</th>\n      <td>some college</td>\n      <td>40.67</td>\n    </tr>\n    <tr>\n      <th>8</th>\n      <td>high school</td>\n      <td>65.00</td>\n    </tr>\n    <tr>\n      <th>9</th>\n      <td>high school</td>\n      <td>49.33</td>\n    </tr>\n    <tr>\n      <th>10</th>\n      <td>associate's degree</td>\n      <td>54.67</td>\n    </tr>\n    <tr>\n      <th>11</th>\n      <td>associate's degree</td>\n      <td>45.00</td>\n    </tr>\n    <tr>\n      <th>12</th>\n      <td>high school</td>\n      <td>73.00</td>\n    </tr>\n    <tr>\n      <th>13</th>\n      <td>some college</td>\n      <td>73.33</td>\n    </tr>\n    <tr>\n      <th>14</th>\n      <td>master's degree</td>\n      <td>53.67</td>\n    </tr>\n    <tr>\n      <th>15</th>\n      <td>some high school</td>\n      <td>74.00</td>\n    </tr>\n    <tr>\n      <th>16</th>\n      <td>high school</td>\n      <td>87.67</td>\n    </tr>\n    <tr>\n      <th>17</th>\n      <td>some high school</td>\n      <td>26.00</td>\n    </tr>\n    <tr>\n      <th>18</th>\n      <td>master's degree</td>\n      <td>44.67</td>\n    </tr>\n    <tr>\n      <th>19</th>\n      <td>associate's degree</td>\n      <td>57.67</td>\n    </tr>\n    <tr>\n      <th>20</th>\n      <td>high school</td>\n      <td>66.00</td>\n    </tr>\n    <tr>\n      <th>23</th>\n      <td>some high school</td>\n      <td>71.67</td>\n    </tr>\n    <tr>\n      <th>24</th>\n      <td>bachelor's degree</td>\n      <td>75.00</td>\n    </tr>\n    <tr>\n      <th>25</th>\n      <td>master's degree</td>\n      <td>73.00</td>\n    </tr>\n    <tr>\n      <th>27</th>\n      <td>bachelor's degree</td>\n      <td>70.33</td>\n    </tr>\n    <tr>\n      <th>29</th>\n      <td>master's degree</td>\n      <td>69.00</td>\n    </tr>\n    <tr>\n      <th>37</th>\n      <td>some high school</td>\n      <td>57.67</td>\n    </tr>\n    <tr>\n      <th>54</th>\n      <td>some high school</td>\n      <td>80.67</td>\n    </tr>\n    <tr>\n      <th>60</th>\n      <td>bachelor's degree</td>\n      <td>75.00</td>\n    </tr>\n    <tr>\n      <th>77</th>\n      <td>bachelor's degree</td>\n      <td>79.67</td>\n    </tr>\n  </tbody>\n</table>\n</div>"
          },
          "metadata": {}
        }
      ]
    },
    {
      "metadata": {
        "trusted": true,
        "_uuid": "c23392eb7db66edebf0e9f0a423ce1bd5d8158e6"
      },
      "cell_type": "code",
      "source": "F,p=stats.f_oneway(grouped_parents.get_group('high school')['total'],grouped_parents.get_group('bachelor\\'s degree')['total'])\nprint(F,p)",
      "execution_count": 41,
      "outputs": [
        {
          "output_type": "stream",
          "text": "30.68280359606852 6.461731629669535e-08\n",
          "name": "stdout"
        }
      ]
    }
  ],
  "metadata": {
    "kernelspec": {
      "display_name": "Python 3",
      "language": "python",
      "name": "python3"
    },
    "language_info": {
      "name": "python",
      "version": "3.6.6",
      "mimetype": "text/x-python",
      "codemirror_mode": {
        "name": "ipython",
        "version": 3
      },
      "pygments_lexer": "ipython3",
      "nbconvert_exporter": "python",
      "file_extension": ".py"
    }
  },
  "nbformat": 4,
  "nbformat_minor": 1
}